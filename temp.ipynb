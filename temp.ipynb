{
 "cells": [
  {
   "cell_type": "code",
   "execution_count": null,
   "id": "90762154",
   "metadata": {
    "vscode": {
     "languageId": "plaintext"
    }
   },
   "outputs": [],
   "source": [
    "import random\n",
    "doors = [\"door1\", \"door2\", \"door3\"]\n",
    "choosen_doors = []\n",
    "random_door = random.choice(doors)\n",
    "choosen_doors.append(random_door)\n",
    "user_door = input(\"Choose a door (door1, door2, door3): \").lower()\n",
    "choosen_doors.append(user_door)\n",
    "last_door = str([door for door in doors if door not in choosen_doors ])\n",
    "change = input(f\"{doors[0]}is goat,Do you want to change {user_door} with{last_door[0]}: y/n \").lower()\n",
    "if change == \"y\":\n",
    "    user_door = last_door\n",
    "\n",
    "if user_door == random_door:\n",
    "    print(\"you win a car\")\n",
    "else:\n",
    "    print(\"you win a goat\")\n",
    "print(random_door, user_door, last_door)"
   ]
  },
  {
   "cell_type": "code",
   "execution_count": null,
   "id": "6bd085d6",
   "metadata": {
    "vscode": {
     "languageId": "plaintext"
    }
   },
   "outputs": [],
   "source": [
    "import random\n",
    "win = 0\n",
    "lose = 0\n",
    "doors = [\"door1\", \"door2\", \"door3\"]\n",
    "change = input(\"play with change option? y/n :\")\n",
    "for i in range(100):\n",
    "    prise_door = random.choice(doors)\n",
    "    goat_doors = [door for door in doors if door != prise_door]\n",
    "    #user_door = input(\"Choose a door (door1, door2, door3): \").lower()\n",
    "    user_door = random.choice(doors)\n",
    "    show_door = [door for door in goat_doors if door != user_door]\n",
    "    change_door = [door for door in doors if door != user_door and door != show_door[0]]\n",
    "    #change = input(f\"{show_door[0]} is goat, do you want to change the {user_door} with {change_door}? y/n\")\n",
    "    if change == \"y\":\n",
    "        user_door = change_door[0]\n",
    "\n",
    "    if user_door == prise_door:\n",
    "        #print(\"you won a CAR\")\n",
    "        win += 1\n",
    "    else:\n",
    "        #print(\"you prise is a GOAT\")\n",
    "        lose += 1   \n",
    "\n",
    "    #print(prise_door, user_door)\n",
    "print(f\" win times = {win} and loose times = {lose}\")"
   ]
  }
 ],
 "metadata": {
  "language_info": {
   "name": "python"
  }
 },
 "nbformat": 4,
 "nbformat_minor": 5
}
